{
 "cells": [
  {
   "cell_type": "code",
   "execution_count": 1,
   "metadata": {
    "collapsed": true
   },
   "outputs": [],
   "source": [
    "import re\n",
    "import nltk\n",
    "\n",
    "import pandas as pd\n",
    "import numpy as np\n",
    "\n",
    "from bs4 import BeautifulSoup\n",
    "from nltk.corpus import stopwords\n",
    "\n",
    "from sklearn.feature_extraction.text import TfidfVectorizer"
   ]
  },
  {
   "cell_type": "code",
   "execution_count": 2,
   "metadata": {
    "collapsed": true
   },
   "outputs": [],
   "source": [
    "def document_to_wordlist( review, remove_stopwords=False ):\n",
    "\treview_text = BeautifulSoup(review).get_text()\n",
    "\treview_text = re.sub(\"[^a-zA-Z]\",\" \", review_text)\n",
    "\twords = review_text.lower().split()\n",
    "\tif remove_stopwords:\n",
    "\t\tstops = set(stopwords.words(\"english\"))\n",
    "\t\twords = [w for w in words if not w in stops]\n",
    "\treturn(words)"
   ]
  },
  {
   "cell_type": "code",
   "execution_count": 8,
   "metadata": {
    "collapsed": false
   },
   "outputs": [],
   "source": [
    "import itertools\n",
    "from collections import Counter\n",
    "raw_sentences = [\"this is anirudh\",\"hello who is this\",\"anirudh is speacking\",\"this is anirudh\"]\n",
    "wordlist = []\n",
    "for each in raw_sentences:\n",
    "    wordlist+=document_to_wordlist(each)\n",
    "c = Counter(wordlist)\n",
    "wordcloud = []\n",
    "for each in c:\n",
    "    temp = {}\n",
    "    temp['text'] = each\n",
    "    temp['size'] = c[each]\n",
    "    wordcloud.append(temp)"
   ]
  },
  {
   "cell_type": "code",
   "execution_count": 10,
   "metadata": {
    "collapsed": false
   },
   "outputs": [
    {
     "name": "stdout",
     "output_type": "stream",
     "text": [
      "[[ 1.          0.3982426   0.50300644  1.        ]\n",
      " [ 0.3982426   1.          0.12835482  0.3982426 ]\n",
      " [ 0.50300644  0.12835482  1.          0.50300644]\n",
      " [ 1.          0.3982426   0.50300644  1.        ]]\n"
     ]
    },
    {
     "data": {
      "text/plain": [
       "{'links': [{'source': 0, 'target': 1, 'value': 0.3982425979778621},\n",
       "  {'source': 0, 'target': 2, 'value': 0.50300644050587495},\n",
       "  {'source': 0, 'target': 3, 'value': 0.99999999999999989},\n",
       "  {'source': 1, 'target': 2, 'value': 0.12835481850733338},\n",
       "  {'source': 1, 'target': 3, 'value': 0.3982425979778621},\n",
       "  {'source': 2, 'target': 3, 'value': 0.50300644050587495}],\n",
       " 'nodes': [{'name': 'this is anirudh'},\n",
       "  {'name': 'hello who is this'},\n",
       "  {'name': 'anirudh is speacking'},\n",
       "  {'name': 'this is anirudh'}]}"
      ]
     },
     "execution_count": 10,
     "metadata": {},
     "output_type": "execute_result"
    }
   ],
   "source": [
    "\n",
    "tfidf = TfidfVectorizer().fit_transform(raw_sentences)\n",
    "matrix = (tfidf * tfidf.T).A\n",
    "print matrix\n",
    "force = {}\n",
    "force[\"nodes\"] = []\n",
    "force[\"links\"] = [] \n",
    "for each in raw_sentences:\n",
    "    temp={}\n",
    "    temp[\"name\"] = each\n",
    "    force[\"nodes\"].append(temp)\n",
    "for ((i,_),(j,_)) in itertools.combinations(enumerate(raw_sentences), 2):\n",
    "    temp = {}\n",
    "    temp[\"source\"] = i\n",
    "    temp[\"target\"] = j\n",
    "    temp[\"value\"] = matrix[i][j]\n",
    "    force[\"links\"].append(temp)\n",
    "force\n"
   ]
  }
 ],
 "metadata": {
  "kernelspec": {
   "display_name": "Python 2",
   "language": "python",
   "name": "python2"
  },
  "language_info": {
   "codemirror_mode": {
    "name": "ipython",
    "version": 2
   },
   "file_extension": ".py",
   "mimetype": "text/x-python",
   "name": "python",
   "nbconvert_exporter": "python",
   "pygments_lexer": "ipython2",
   "version": "2.7.9"
  }
 },
 "nbformat": 4,
 "nbformat_minor": 0
}
