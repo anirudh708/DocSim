{
 "cells": [
  {
   "cell_type": "code",
   "execution_count": 12,
   "metadata": {
    "collapsed": true
   },
   "outputs": [],
   "source": [
    "import re\n",
    "import nltk\n",
    "\n",
    "import pandas as pd\n",
    "import numpy as np\n",
    "\n",
    "from bs4 import BeautifulSoup\n",
    "from nltk.corpus import stopwords\n",
    "\n",
    "from sklearn.feature_extraction.text import TfidfVectorizer"
   ]
  },
  {
   "cell_type": "code",
   "execution_count": 2,
   "metadata": {
    "collapsed": true
   },
   "outputs": [],
   "source": [
    "def document_to_wordlist( review, remove_stopwords=False ):\n",
    "\treview_text = BeautifulSoup(review).get_text()\n",
    "\treview_text = re.sub(\"[^a-zA-Z]\",\" \", review_text)\n",
    "\twords = review_text.lower().split()\n",
    "\tif remove_stopwords:\n",
    "\t\tstops = set(stopwords.words(\"english\"))\n",
    "\t\twords = [w for w in words if not w in stops]\n",
    "\treturn(words)"
   ]
  },
  {
   "cell_type": "code",
   "execution_count": 8,
   "metadata": {
    "collapsed": false
   },
   "outputs": [],
   "source": [
    "import itertools\n",
    "from collections import Counter\n",
    "raw_sentences = [\"this is anirudh\",\"hello who is this\",\"anirudh is speacking\",\"this is anirudh\"]\n",
    "wordlist = []\n",
    "for each in raw_sentences:\n",
    "    wordlist+=document_to_wordlist(each)\n",
    "c = Counter(wordlist)\n",
    "wordcloud = []\n",
    "for each in c:\n",
    "    temp = {}\n",
    "    temp['text'] = each\n",
    "    temp['size'] = c[each]\n",
    "    wordcloud.append(temp)"
   ]
  },
  {
   "cell_type": "code",
   "execution_count": 10,
   "metadata": {
    "collapsed": false
   },
   "outputs": [
    {
     "name": "stdout",
     "output_type": "stream",
     "text": [
      "[[ 1.          0.3982426   0.50300644  1.        ]\n",
      " [ 0.3982426   1.          0.12835482  0.3982426 ]\n",
      " [ 0.50300644  0.12835482  1.          0.50300644]\n",
      " [ 1.          0.3982426   0.50300644  1.        ]]\n"
     ]
    },
    {
     "data": {
      "text/plain": [
       "{'links': [{'source': 0, 'target': 1, 'value': 0.3982425979778621},\n",
       "  {'source': 0, 'target': 2, 'value': 0.50300644050587495},\n",
       "  {'source': 0, 'target': 3, 'value': 0.99999999999999989},\n",
       "  {'source': 1, 'target': 2, 'value': 0.12835481850733338},\n",
       "  {'source': 1, 'target': 3, 'value': 0.3982425979778621},\n",
       "  {'source': 2, 'target': 3, 'value': 0.50300644050587495}],\n",
       " 'nodes': [{'name': 'this is anirudh'},\n",
       "  {'name': 'hello who is this'},\n",
       "  {'name': 'anirudh is speacking'},\n",
       "  {'name': 'this is anirudh'}]}"
      ]
     },
     "execution_count": 10,
     "metadata": {},
     "output_type": "execute_result"
    }
   ],
   "source": [
    "\n",
    "tfidf = TfidfVectorizer().fit_transform(raw_sentences)\n",
    "matrix = (tfidf * tfidf.T).A\n",
    "print matrix\n",
    "force = {}\n",
    "force[\"nodes\"] = []\n",
    "force[\"links\"] = [] \n",
    "for each in raw_sentences:\n",
    "    temp={}\n",
    "    temp[\"name\"] = each\n",
    "    force[\"nodes\"].append(temp)\n",
    "for ((i,_),(j,_)) in itertools.combinations(enumerate(raw_sentences), 2):\n",
    "    temp = {}\n",
    "    temp[\"source\"] = i\n",
    "    temp[\"target\"] = j\n",
    "    temp[\"value\"] = matrix[i][j]\n",
    "    force[\"links\"].append(temp)\n",
    "force\n"
   ]
  },
  {
   "cell_type": "code",
   "execution_count": 6,
   "metadata": {
    "collapsed": false
   },
   "outputs": [],
   "source": [
    "import os\n",
    "import numpy as np\n",
    "def load_word2vec(dir):\n",
    "    load_word2vec\n",
    "    word2vec = {}\n",
    "    for path in os.listdir(dir):\n",
    "        iword2vec = {}\n",
    "        #load the word2vec features.\n",
    "        with open(os.path.join(dir,path), 'r') as fin:\n",
    "            if path == 'vectors0.txt':\n",
    "                next(fin) #skip information on first line\n",
    "            for line in fin:\n",
    "                items = line.replace('\\r','').replace('\\n','').split(' ')\n",
    "                if len(items) < 10: continue\n",
    "                word = items[0]\n",
    "                vect = np.array([float(i) for i in items[1:] if len(i) > 1])\n",
    "                iword2vec[word] = vect\n",
    "\n",
    "        word2vec.update(iword2vec)\n",
    "        \n",
    "    return word2vec"
   ]
  },
  {
   "cell_type": "code",
   "execution_count": 8,
   "metadata": {
    "collapsed": false
   },
   "outputs": [],
   "source": [
    "word_vector= load_word2vec(\"static\\\\vectors\")"
   ]
  },
  {
   "cell_type": "code",
   "execution_count": 27,
   "metadata": {
    "collapsed": false
   },
   "outputs": [],
   "source": [
    "def document_to_wordlist( review, remove_stopwords=False):\n",
    "\t'''\n",
    "\t\tTakes a string and converts it to wordlist(list)\n",
    "\t'''\n",
    "\treview_text = BeautifulSoup(review).get_text()\n",
    "\treview_text = re.sub(\"[^a-zA-Z]\",\" \", review_text)\n",
    "\twords = review_text.lower().split()\n",
    "\tif remove_stopwords:\n",
    "\t\tstops = set(stopwords.words(\"english\"))\n",
    "\t\twords = [w for w in words if not w in stops]\n",
    "\treturn(words)"
   ]
  },
  {
   "cell_type": "code",
   "execution_count": 40,
   "metadata": {
    "collapsed": false
   },
   "outputs": [
    {
     "name": "stdout",
     "output_type": "stream",
     "text": [
      "0     0    1.0\n",
      "[[0, 0], [0, 0]]\n",
      "[[0.99999999999999989, 0], [0.99999999999999989, 0]]\n",
      "0     1    0.939649859664\n",
      "[[0.99999999999999989, 0], [0.99999999999999989, 0]]\n",
      "[[0.99999999999999989, 0.93964985966359704], [0.99999999999999989, 0.93964985966359704]]\n",
      "1     0    0.939649859664\n",
      "[[0.99999999999999989, 0.93964985966359704], [0.99999999999999989, 0.93964985966359704]]\n",
      "[[0.93964985966359704, 0.93964985966359704], [0.93964985966359704, 0.93964985966359704]]\n",
      "1     1    1.0\n",
      "[[0.93964985966359704, 0.93964985966359704], [0.93964985966359704, 0.93964985966359704]]\n",
      "[[0.93964985966359704, 1.0000000000000002], [0.93964985966359704, 1.0000000000000002]]\n"
     ]
    }
   ],
   "source": [
    "raw_sentences = ['anirudh is a good boy','anirudh is not a good boy']\n",
    "matrix = [[0]*len(raw_sentences)]*len(raw_sentences)\n",
    "for i in range(0,len(raw_sentences)):\n",
    "    for j in range(0,len(raw_sentences)):\n",
    "        sen1 = raw_sentences[i]\n",
    "        sen2 = raw_sentences[j]\n",
    "        sen1_words = document_to_wordlist(sen1)\n",
    "        sen2_words = document_to_wordlist(sen2)\n",
    "        sen1_vectors = []\n",
    "        for each in sen1_words:\n",
    "            if each in word_vector:\n",
    "                sen1_vectors.append(word_vector[each])\n",
    "        sen1_vector = np.array(sen1_vectors).sum(axis=0)\n",
    "        sen2_vectors = []\n",
    "        for each in sen2_words:\n",
    "            if each in word_vector:\n",
    "                sen2_vectors.append(word_vector[each])\n",
    "        sen2_vector = np.array(sen2_vectors).sum(axis=0)\n",
    "        print i,\"   \",j,\"  \",(cosine_similarity(sen1_vector, sen2_vector)[0][0])\n",
    "        print matrix\n",
    "        matrix[i][j] = cosine_similarity(sen1_vector, sen2_vector)[0][0]\n",
    "        print matrix\n"
   ]
  },
  {
   "cell_type": "code",
   "execution_count": 44,
   "metadata": {
    "collapsed": false
   },
   "outputs": [
    {
     "name": "stdout",
     "output_type": "stream",
     "text": [
      "[[0, 0], [0, 0]]\n"
     ]
    },
    {
     "data": {
      "text/plain": [
       "[[1, 0], [1, 0]]"
      ]
     },
     "execution_count": 44,
     "metadata": {},
     "output_type": "execute_result"
    }
   ],
   "source": [
    "matrix = [[0]*len(raw_sentences)]*len(raw_sentences)\n",
    "print matrix\n",
    "matrix[0][0] = 1\n",
    "matrix"
   ]
  }
 ],
 "metadata": {
  "kernelspec": {
   "display_name": "Python 2",
   "language": "python",
   "name": "python2"
  },
  "language_info": {
   "codemirror_mode": {
    "name": "ipython",
    "version": 2
   },
   "file_extension": ".py",
   "mimetype": "text/x-python",
   "name": "python",
   "nbconvert_exporter": "python",
   "pygments_lexer": "ipython2",
   "version": "2.7.6"
  }
 },
 "nbformat": 4,
 "nbformat_minor": 0
}
